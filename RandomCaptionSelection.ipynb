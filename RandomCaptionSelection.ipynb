{
 "cells": [
  {
   "cell_type": "code",
   "execution_count": 28,
   "outputs": [],
   "source": [
    "import torch"
   ],
   "metadata": {
    "collapsed": false,
    "pycharm": {
     "name": "#%%\n"
    }
   }
  },
  {
   "cell_type": "code",
   "execution_count": 29,
   "outputs": [],
   "source": [
    "##create Batch, np of captions for image, and max length of caption\n",
    "x = torch.rand(3, 5, 10)"
   ],
   "metadata": {
    "collapsed": false,
    "pycharm": {
     "name": "#%%\n"
    }
   }
  },
  {
   "cell_type": "code",
   "execution_count": 30,
   "outputs": [
    {
     "data": {
      "text/plain": "tensor([[[1.8309e-01, 9.6665e-01, 2.1604e-01, 1.4143e-01, 2.2786e-01,\n          5.9938e-01, 2.3588e-02, 8.6126e-01, 7.0469e-01, 6.6908e-01],\n         [4.0389e-01, 6.3509e-01, 9.2100e-01, 9.8789e-01, 9.4341e-01,\n          5.0234e-01, 6.7010e-01, 9.7614e-01, 3.5053e-01, 5.0826e-01],\n         [3.4497e-01, 6.8619e-01, 1.3458e-01, 9.2432e-01, 6.6425e-01,\n          6.4152e-01, 5.3626e-01, 7.9882e-01, 4.2679e-01, 3.7507e-01],\n         [2.8204e-01, 5.6221e-01, 3.5856e-01, 3.8171e-01, 9.3186e-01,\n          1.0485e-01, 6.6113e-01, 9.3369e-01, 8.8801e-01, 5.6209e-01],\n         [4.3299e-01, 4.4264e-01, 5.8426e-02, 1.3672e-02, 4.0066e-01,\n          8.2865e-01, 5.5597e-01, 1.5801e-01, 5.3755e-01, 6.7158e-03]],\n\n        [[3.4626e-01, 6.5715e-01, 2.5919e-01, 4.3593e-01, 6.1675e-01,\n          8.2351e-01, 9.8431e-01, 9.9162e-01, 6.7120e-01, 4.0493e-01],\n         [3.8958e-01, 8.6369e-01, 1.1498e-01, 5.4591e-01, 2.1700e-01,\n          2.3663e-02, 7.2431e-01, 9.2324e-01, 8.5344e-02, 5.8792e-01],\n         [9.8136e-01, 1.5088e-02, 6.0696e-01, 5.2157e-01, 6.2738e-01,\n          6.4702e-01, 4.7017e-02, 1.9157e-01, 3.0437e-01, 3.8262e-01],\n         [4.6747e-01, 8.5444e-01, 4.3993e-01, 3.6322e-02, 5.0117e-01,\n          7.0721e-01, 7.4648e-01, 1.4119e-01, 3.3693e-01, 7.5407e-01],\n         [6.9910e-01, 6.3549e-01, 9.3461e-01, 4.5542e-01, 4.7028e-01,\n          2.5040e-01, 2.1780e-01, 8.7693e-01, 9.5367e-06, 4.2142e-01]],\n\n        [[2.7844e-01, 5.8188e-01, 2.9145e-01, 3.7252e-01, 8.6126e-01,\n          5.9826e-02, 1.2978e-01, 1.1559e-01, 5.2866e-01, 4.8049e-01],\n         [6.8497e-01, 8.7993e-01, 4.5097e-01, 3.1116e-02, 8.8065e-01,\n          6.0957e-01, 5.6592e-01, 5.0123e-01, 2.0719e-01, 9.4288e-01],\n         [5.5288e-01, 3.4986e-01, 7.6186e-02, 7.8184e-03, 6.4067e-01,\n          1.2779e-01, 8.2916e-01, 5.7579e-01, 9.4125e-01, 5.8316e-01],\n         [3.1574e-01, 7.7062e-02, 5.1994e-01, 4.0715e-01, 4.9094e-01,\n          2.8643e-01, 6.3713e-01, 8.2503e-01, 9.4433e-01, 3.0763e-01],\n         [7.5182e-01, 2.0640e-01, 9.1985e-01, 2.3717e-01, 6.6712e-01,\n          2.7265e-01, 1.5807e-02, 9.1995e-02, 1.4118e-02, 2.8956e-01]]])"
     },
     "execution_count": 30,
     "metadata": {},
     "output_type": "execute_result"
    }
   ],
   "source": [
    "x"
   ],
   "metadata": {
    "collapsed": false,
    "pycharm": {
     "name": "#%%\n"
    }
   }
  },
  {
   "cell_type": "code",
   "execution_count": 31,
   "outputs": [],
   "source": [
    "x = x.permute(0, 2, 1)"
   ],
   "metadata": {
    "collapsed": false,
    "pycharm": {
     "name": "#%%\n"
    }
   }
  },
  {
   "cell_type": "code",
   "execution_count": 32,
   "outputs": [
    {
     "data": {
      "text/plain": "torch.Size([3, 10, 5])"
     },
     "execution_count": 32,
     "metadata": {},
     "output_type": "execute_result"
    }
   ],
   "source": [
    "x.shape"
   ],
   "metadata": {
    "collapsed": false,
    "pycharm": {
     "name": "#%%\n"
    }
   }
  },
  {
   "cell_type": "code",
   "execution_count": 33,
   "outputs": [],
   "source": [
    "x = x[:, :, 1]"
   ],
   "metadata": {
    "collapsed": false,
    "pycharm": {
     "name": "#%%\n"
    }
   }
  },
  {
   "cell_type": "code",
   "execution_count": 34,
   "outputs": [
    {
     "data": {
      "text/plain": "torch.Size([3, 10])"
     },
     "execution_count": 34,
     "metadata": {},
     "output_type": "execute_result"
    }
   ],
   "source": [
    "x.shape"
   ],
   "metadata": {
    "collapsed": false,
    "pycharm": {
     "name": "#%%\n"
    }
   }
  },
  {
   "cell_type": "code",
   "execution_count": 35,
   "outputs": [
    {
     "data": {
      "text/plain": "tensor([[0.4039, 0.6351, 0.9210, 0.9879, 0.9434, 0.5023, 0.6701, 0.9761, 0.3505,\n         0.5083],\n        [0.3896, 0.8637, 0.1150, 0.5459, 0.2170, 0.0237, 0.7243, 0.9232, 0.0853,\n         0.5879],\n        [0.6850, 0.8799, 0.4510, 0.0311, 0.8807, 0.6096, 0.5659, 0.5012, 0.2072,\n         0.9429]])"
     },
     "execution_count": 35,
     "metadata": {},
     "output_type": "execute_result"
    }
   ],
   "source": [
    "x"
   ],
   "metadata": {
    "collapsed": false,
    "pycharm": {
     "name": "#%%\n"
    }
   }
  },
  {
   "cell_type": "code",
   "execution_count": 36,
   "outputs": [
    {
     "data": {
      "text/plain": "tensor([[0.4039, 0.6351, 0.9210, 0.9879, 0.9434, 0.5023, 0.6701, 0.9761, 0.3505],\n        [0.3896, 0.8637, 0.1150, 0.5459, 0.2170, 0.0237, 0.7243, 0.9232, 0.0853],\n        [0.6850, 0.8799, 0.4510, 0.0311, 0.8807, 0.6096, 0.5659, 0.5012, 0.2072]])"
     },
     "execution_count": 36,
     "metadata": {},
     "output_type": "execute_result"
    }
   ],
   "source": [
    "x[:, :-1]"
   ],
   "metadata": {
    "collapsed": false,
    "pycharm": {
     "name": "#%%\n"
    }
   }
  },
  {
   "cell_type": "code",
   "execution_count": 37,
   "outputs": [],
   "source": [
    "y = torch.rand(3, 5, 10)"
   ],
   "metadata": {
    "collapsed": false,
    "pycharm": {
     "name": "#%%\n"
    }
   }
  },
  {
   "cell_type": "code",
   "execution_count": 38,
   "outputs": [
    {
     "data": {
      "text/plain": "tensor([[[0.9138, 0.4375, 0.1113, 0.5708, 0.5732, 0.4338, 0.2433, 0.4372,\n          0.3471, 0.3558],\n         [0.3803, 0.2142, 0.2433, 0.8983, 0.2209, 0.3859, 0.1602, 0.6012,\n          0.8418, 0.9650],\n         [0.2599, 0.5580, 0.7951, 0.8678, 0.7041, 0.6026, 0.3966, 0.5266,\n          0.2800, 0.8938],\n         [0.2432, 0.0383, 0.7133, 0.2539, 0.1989, 0.0170, 0.3822, 0.4102,\n          0.6808, 0.1765],\n         [0.8208, 0.0471, 0.4564, 0.2578, 0.6362, 0.0042, 0.5706, 0.4151,\n          0.8962, 0.9248]],\n\n        [[0.6142, 0.6199, 0.7774, 0.6848, 0.5066, 0.1479, 0.6640, 0.2672,\n          0.1775, 0.9524],\n         [0.7511, 0.1061, 0.4983, 0.5853, 0.9392, 0.2288, 0.4791, 0.5381,\n          0.6262, 0.5084],\n         [0.4974, 0.0709, 0.8065, 0.8296, 0.8019, 0.4163, 0.7555, 0.7413,\n          0.7415, 0.8246],\n         [0.4418, 0.5640, 0.9127, 0.8121, 0.4097, 0.8894, 0.6719, 0.0024,\n          0.5020, 0.8582],\n         [0.9660, 0.7346, 0.4831, 0.2203, 0.6004, 0.8607, 0.9528, 0.1759,\n          0.6671, 0.0564]],\n\n        [[0.7482, 0.9549, 0.9929, 0.0766, 0.2437, 0.1237, 0.3326, 0.8865,\n          0.7253, 0.1915],\n         [0.6289, 0.4076, 0.0082, 0.9795, 0.8797, 0.6269, 0.2084, 0.9078,\n          0.7113, 0.5684],\n         [0.5497, 0.5978, 0.3221, 0.6820, 0.3690, 0.7676, 0.1428, 0.6210,\n          0.2443, 0.3760],\n         [0.8957, 0.6956, 0.4453, 0.0835, 0.6643, 0.8368, 0.5278, 0.9716,\n          0.4505, 0.7993],\n         [0.5105, 0.9961, 0.5354, 0.8608, 0.0044, 0.0431, 0.9881, 0.9776,\n          0.0703, 0.6829]]])"
     },
     "execution_count": 38,
     "metadata": {},
     "output_type": "execute_result"
    }
   ],
   "source": [
    "y"
   ],
   "metadata": {
    "collapsed": false,
    "pycharm": {
     "name": "#%%\n"
    }
   }
  },
  {
   "cell_type": "code",
   "execution_count": 39,
   "outputs": [],
   "source": [
    "y = y[:, 1, :]"
   ],
   "metadata": {
    "collapsed": false,
    "pycharm": {
     "name": "#%%\n"
    }
   }
  },
  {
   "cell_type": "code",
   "execution_count": 41,
   "outputs": [
    {
     "data": {
      "text/plain": "torch.Size([3, 10])"
     },
     "execution_count": 41,
     "metadata": {},
     "output_type": "execute_result"
    }
   ],
   "source": [
    "y.shape"
   ],
   "metadata": {
    "collapsed": false,
    "pycharm": {
     "name": "#%%\n"
    }
   }
  },
  {
   "cell_type": "code",
   "execution_count": 42,
   "outputs": [],
   "source": [
    "y = y[:, :-1]"
   ],
   "metadata": {
    "collapsed": false,
    "pycharm": {
     "name": "#%%\n"
    }
   }
  },
  {
   "cell_type": "code",
   "execution_count": null,
   "outputs": [],
   "source": [],
   "metadata": {
    "collapsed": false,
    "pycharm": {
     "name": "#%%\n"
    }
   }
  }
 ],
 "metadata": {
  "kernelspec": {
   "display_name": "Python 3",
   "language": "python",
   "name": "python3"
  },
  "language_info": {
   "codemirror_mode": {
    "name": "ipython",
    "version": 2
   },
   "file_extension": ".py",
   "mimetype": "text/x-python",
   "name": "python",
   "nbconvert_exporter": "python",
   "pygments_lexer": "ipython2",
   "version": "2.7.6"
  }
 },
 "nbformat": 4,
 "nbformat_minor": 0
}